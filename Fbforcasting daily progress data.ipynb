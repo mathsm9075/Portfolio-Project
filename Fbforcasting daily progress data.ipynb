{
 "cells": [
  {
   "cell_type": "code",
   "execution_count": 57,
   "id": "3a64642a-311b-4398-9601-0cb399e5df5e",
   "metadata": {},
   "outputs": [],
   "source": [
    "import fbprophet\n",
    "import matplotlib as mpl\n",
    "import matplotlib.pyplot as plt\n",
    "%matplotlib inline\n",
    "import seaborn as sns\n",
    "import numpy as np\n",
    "import pandas as pd\n",
    "import pystan\n",
    "from fbprophet import Prophet"
   ]
  },
  {
   "cell_type": "code",
   "execution_count": 13,
   "id": "8a988119-ff18-4803-8267-6c83044522b5",
   "metadata": {},
   "outputs": [],
   "source": [
    "df=df[['Date - UTC', 'Qualified', 'Profitable',\n",
    "       'Qualified & Profitable', 'Mapping CR', 'Discovery Rate', 'Avg. Margin',\n",
    "       'Avg. Auctions', 'Avg. Wins', 'Avg. Sales', 'Avg. Win %', 'ROI',\n",
    "       'Overall Earnings', 'Overall Cost', 'Overall Profit']]"
   ]
  },
  {
   "cell_type": "code",
   "execution_count": 12,
   "id": "ccab2a9a-d02c-4b24-8ee2-13356a1ffc67",
   "metadata": {},
   "outputs": [],
   "source": [
    "df=pd.read_excel(\"E:\\\\Baseify\\Exploration daily progress.xlsx\")"
   ]
  },
  {
   "cell_type": "code",
   "execution_count": 14,
   "id": "6782c1ac-7cd9-43e2-9076-0f7b408842cd",
   "metadata": {},
   "outputs": [],
   "source": [
    "df.columns=['Date', 'Qualified', 'Profitable',\n",
    "       'Qualified & Profitable', 'Mapping CR', 'Discovery Rate', 'Avg. Margin',\n",
    "       'Avg. Auctions', 'Avg. Wins', 'Avg. Sales', 'Avg. Win %', 'ROI',\n",
    "       'Overall Earnings', 'Overall Cost', 'Overall Profit']"
   ]
  },
  {
   "cell_type": "code",
   "execution_count": 19,
   "id": "8d9a62ba-3855-4dc0-98fd-e8e86260db50",
   "metadata": {},
   "outputs": [
    {
     "data": {
      "text/html": [
       "<div>\n",
       "<style scoped>\n",
       "    .dataframe tbody tr th:only-of-type {\n",
       "        vertical-align: middle;\n",
       "    }\n",
       "\n",
       "    .dataframe tbody tr th {\n",
       "        vertical-align: top;\n",
       "    }\n",
       "\n",
       "    .dataframe thead th {\n",
       "        text-align: right;\n",
       "    }\n",
       "</style>\n",
       "<table border=\"1\" class=\"dataframe\">\n",
       "  <thead>\n",
       "    <tr style=\"text-align: right;\">\n",
       "      <th></th>\n",
       "      <th>Date</th>\n",
       "      <th>Qualified</th>\n",
       "      <th>Profitable</th>\n",
       "      <th>Qualified &amp; Profitable</th>\n",
       "      <th>Mapping CR</th>\n",
       "      <th>Discovery Rate</th>\n",
       "      <th>Avg. Margin</th>\n",
       "      <th>Avg. Auctions</th>\n",
       "      <th>Avg. Wins</th>\n",
       "      <th>Avg. Sales</th>\n",
       "      <th>Avg. Win %</th>\n",
       "      <th>ROI</th>\n",
       "      <th>Overall Earnings</th>\n",
       "      <th>Overall Cost</th>\n",
       "      <th>Overall Profit</th>\n",
       "    </tr>\n",
       "  </thead>\n",
       "  <tbody>\n",
       "    <tr>\n",
       "      <th>0</th>\n",
       "      <td>NaT</td>\n",
       "      <td>NaN</td>\n",
       "      <td>NaN</td>\n",
       "      <td>NaN</td>\n",
       "      <td>NaN</td>\n",
       "      <td>NaN</td>\n",
       "      <td>NaN</td>\n",
       "      <td>NaN</td>\n",
       "      <td>NaN</td>\n",
       "      <td>NaN</td>\n",
       "      <td>NaN</td>\n",
       "      <td>NaN</td>\n",
       "      <td>NaN</td>\n",
       "      <td>NaN</td>\n",
       "      <td>NaN</td>\n",
       "    </tr>\n",
       "    <tr>\n",
       "      <th>1</th>\n",
       "      <td>2021-03-11</td>\n",
       "      <td>81.0</td>\n",
       "      <td>52.0</td>\n",
       "      <td>15.0</td>\n",
       "      <td>0.642</td>\n",
       "      <td>0.0</td>\n",
       "      <td>3.2379</td>\n",
       "      <td>28.022</td>\n",
       "      <td>4.413</td>\n",
       "      <td>1.333</td>\n",
       "      <td>0.1575</td>\n",
       "      <td>NaN</td>\n",
       "      <td>NaN</td>\n",
       "      <td>0.0</td>\n",
       "      <td>NaN</td>\n",
       "    </tr>\n",
       "  </tbody>\n",
       "</table>\n",
       "</div>"
      ],
      "text/plain": [
       "        Date  Qualified  Profitable  Qualified & Profitable  Mapping CR  \\\n",
       "0        NaT        NaN         NaN                     NaN         NaN   \n",
       "1 2021-03-11       81.0        52.0                    15.0       0.642   \n",
       "\n",
       "   Discovery Rate  Avg. Margin  Avg. Auctions  Avg. Wins  Avg. Sales  \\\n",
       "0             NaN          NaN            NaN        NaN         NaN   \n",
       "1             0.0       3.2379         28.022      4.413       1.333   \n",
       "\n",
       "   Avg. Win %  ROI  Overall Earnings  Overall Cost  Overall Profit  \n",
       "0         NaN  NaN               NaN           NaN             NaN  \n",
       "1      0.1575  NaN               NaN           0.0             NaN  "
      ]
     },
     "execution_count": 19,
     "metadata": {},
     "output_type": "execute_result"
    }
   ],
   "source": [
    "df.head(2)"
   ]
  },
  {
   "cell_type": "code",
   "execution_count": 23,
   "id": "8868411e-42ea-4791-ae2b-0e9fc32867b6",
   "metadata": {},
   "outputs": [
    {
     "data": {
      "text/plain": [
       "0       NaT\n",
       "1      2021\n",
       "2      2021\n",
       "3      2021\n",
       "4      2021\n",
       "       ... \n",
       "146    2021\n",
       "147    2021\n",
       "148    2021\n",
       "149    2021\n",
       "150    2021\n",
       "Name: Year, Length: 151, dtype: object"
      ]
     },
     "execution_count": 23,
     "metadata": {},
     "output_type": "execute_result"
    }
   ],
   "source": [
    "df['Year'] = df['Date'].apply(lambda x: str(x)[:4])\n",
    "df['Year']"
   ]
  },
  {
   "cell_type": "code",
   "execution_count": 24,
   "id": "d18e52b1-8a29-4563-a08b-11d6344d7438",
   "metadata": {},
   "outputs": [
    {
     "data": {
      "text/plain": [
       "0        \n",
       "1      03\n",
       "2      03\n",
       "3      03\n",
       "4      03\n",
       "       ..\n",
       "146    08\n",
       "147    08\n",
       "148    08\n",
       "149    08\n",
       "150    08\n",
       "Name: Month, Length: 151, dtype: object"
      ]
     },
     "execution_count": 24,
     "metadata": {},
     "output_type": "execute_result"
    }
   ],
   "source": [
    "df['Month'] = df['Date'].apply(lambda x: str(x)[5:7])\n",
    "df['Month']"
   ]
  },
  {
   "cell_type": "code",
   "execution_count": 30,
   "id": "936eddd3-4c80-4b32-8867-d9ec79484acc",
   "metadata": {},
   "outputs": [
    {
     "data": {
      "text/plain": [
       "0       \n",
       "1       \n",
       "2       \n",
       "3       \n",
       "4       \n",
       "      ..\n",
       "146     \n",
       "147     \n",
       "148     \n",
       "149     \n",
       "150     \n",
       "Name: Day, Length: 151, dtype: object"
      ]
     },
     "execution_count": 30,
     "metadata": {},
     "output_type": "execute_result"
    }
   ],
   "source": [
    "df['Day'] = df['Date'].apply(lambda x: str(x)[8:8])\n",
    "df['Day']"
   ]
  },
  {
   "cell_type": "code",
   "execution_count": 41,
   "id": "ca1c5249-fdd4-46fb-a152-249f8675bbe2",
   "metadata": {},
   "outputs": [],
   "source": [
    "df['ds'] = pd.DatetimeIndex(df['Day'])"
   ]
  },
  {
   "cell_type": "code",
   "execution_count": 42,
   "id": "5ea0c086-a526-4d97-8b13-7c6863fef3f9",
   "metadata": {},
   "outputs": [
    {
     "data": {
      "text/plain": [
       "0            NaT\n",
       "1     2021-03-11\n",
       "2     2021-03-12\n",
       "3     2021-03-13\n",
       "4     2021-03-14\n",
       "         ...    \n",
       "146   2021-08-03\n",
       "147   2021-08-04\n",
       "148   2021-08-05\n",
       "149   2021-08-06\n",
       "150   2021-08-07\n",
       "Name: ds, Length: 151, dtype: datetime64[ns]"
      ]
     },
     "execution_count": 42,
     "metadata": {},
     "output_type": "execute_result"
    }
   ],
   "source": [
    "df['ds']"
   ]
  },
  {
   "cell_type": "code",
   "execution_count": 48,
   "id": "c64317ed-efe1-4e23-86cd-82eddaa0107f",
   "metadata": {},
   "outputs": [],
   "source": [
    "qu=df[['Date','Qualified']]\n",
    "qu.columns=['ds','y']"
   ]
  },
  {
   "cell_type": "code",
   "execution_count": 49,
   "id": "2f020633-346b-4a2a-aa1a-e2d77ab875d5",
   "metadata": {},
   "outputs": [
    {
     "data": {
      "text/html": [
       "<div>\n",
       "<style scoped>\n",
       "    .dataframe tbody tr th:only-of-type {\n",
       "        vertical-align: middle;\n",
       "    }\n",
       "\n",
       "    .dataframe tbody tr th {\n",
       "        vertical-align: top;\n",
       "    }\n",
       "\n",
       "    .dataframe thead th {\n",
       "        text-align: right;\n",
       "    }\n",
       "</style>\n",
       "<table border=\"1\" class=\"dataframe\">\n",
       "  <thead>\n",
       "    <tr style=\"text-align: right;\">\n",
       "      <th></th>\n",
       "      <th>ds</th>\n",
       "      <th>y</th>\n",
       "    </tr>\n",
       "  </thead>\n",
       "  <tbody>\n",
       "    <tr>\n",
       "      <th>0</th>\n",
       "      <td>NaT</td>\n",
       "      <td>NaN</td>\n",
       "    </tr>\n",
       "    <tr>\n",
       "      <th>1</th>\n",
       "      <td>2021-03-11</td>\n",
       "      <td>81.0</td>\n",
       "    </tr>\n",
       "    <tr>\n",
       "      <th>2</th>\n",
       "      <td>2021-03-12</td>\n",
       "      <td>86.0</td>\n",
       "    </tr>\n",
       "    <tr>\n",
       "      <th>3</th>\n",
       "      <td>2021-03-13</td>\n",
       "      <td>89.0</td>\n",
       "    </tr>\n",
       "    <tr>\n",
       "      <th>4</th>\n",
       "      <td>2021-03-14</td>\n",
       "      <td>90.0</td>\n",
       "    </tr>\n",
       "  </tbody>\n",
       "</table>\n",
       "</div>"
      ],
      "text/plain": [
       "          ds     y\n",
       "0        NaT   NaN\n",
       "1 2021-03-11  81.0\n",
       "2 2021-03-12  86.0\n",
       "3 2021-03-13  89.0\n",
       "4 2021-03-14  90.0"
      ]
     },
     "execution_count": 49,
     "metadata": {},
     "output_type": "execute_result"
    }
   ],
   "source": [
    "qu.head()"
   ]
  },
  {
   "cell_type": "code",
   "execution_count": 54,
   "id": "96320b12-774c-415a-9bdb-6526c2fc6022",
   "metadata": {},
   "outputs": [],
   "source": [
    "qu=qu.dropna()"
   ]
  },
  {
   "cell_type": "code",
   "execution_count": 55,
   "id": "53a13492-e4a8-4404-8c63-50036cedebc7",
   "metadata": {},
   "outputs": [
    {
     "data": {
      "text/html": [
       "<div>\n",
       "<style scoped>\n",
       "    .dataframe tbody tr th:only-of-type {\n",
       "        vertical-align: middle;\n",
       "    }\n",
       "\n",
       "    .dataframe tbody tr th {\n",
       "        vertical-align: top;\n",
       "    }\n",
       "\n",
       "    .dataframe thead th {\n",
       "        text-align: right;\n",
       "    }\n",
       "</style>\n",
       "<table border=\"1\" class=\"dataframe\">\n",
       "  <thead>\n",
       "    <tr style=\"text-align: right;\">\n",
       "      <th></th>\n",
       "      <th>ds</th>\n",
       "      <th>y</th>\n",
       "    </tr>\n",
       "  </thead>\n",
       "  <tbody>\n",
       "    <tr>\n",
       "      <th>1</th>\n",
       "      <td>2021-03-11</td>\n",
       "      <td>81.0</td>\n",
       "    </tr>\n",
       "    <tr>\n",
       "      <th>2</th>\n",
       "      <td>2021-03-12</td>\n",
       "      <td>86.0</td>\n",
       "    </tr>\n",
       "    <tr>\n",
       "      <th>3</th>\n",
       "      <td>2021-03-13</td>\n",
       "      <td>89.0</td>\n",
       "    </tr>\n",
       "    <tr>\n",
       "      <th>4</th>\n",
       "      <td>2021-03-14</td>\n",
       "      <td>90.0</td>\n",
       "    </tr>\n",
       "    <tr>\n",
       "      <th>5</th>\n",
       "      <td>2021-03-15</td>\n",
       "      <td>84.0</td>\n",
       "    </tr>\n",
       "  </tbody>\n",
       "</table>\n",
       "</div>"
      ],
      "text/plain": [
       "          ds     y\n",
       "1 2021-03-11  81.0\n",
       "2 2021-03-12  86.0\n",
       "3 2021-03-13  89.0\n",
       "4 2021-03-14  90.0\n",
       "5 2021-03-15  84.0"
      ]
     },
     "execution_count": 55,
     "metadata": {},
     "output_type": "execute_result"
    }
   ],
   "source": [
    "qu.head()"
   ]
  },
  {
   "cell_type": "code",
   "execution_count": 59,
   "id": "b520c615-006e-4540-9484-788d7b613b94",
   "metadata": {},
   "outputs": [
    {
     "name": "stderr",
     "output_type": "stream",
     "text": [
      "INFO:fbprophet:Disabling yearly seasonality. Run prophet with yearly_seasonality=True to override this.\n"
     ]
    }
   ],
   "source": [
    "m = Prophet(interval_width=0.95, daily_seasonality=True)\n",
    "model = m.fit(qu)"
   ]
  },
  {
   "cell_type": "code",
   "execution_count": 231,
   "id": "f175305a-b9e7-49dd-81fd-65715fd4ded8",
   "metadata": {},
   "outputs": [],
   "source": [
    "future = m.make_future_dataframe(periods=8,freq='D')\n",
    "forecast = m.predict(future).round()\n"
   ]
  },
  {
   "cell_type": "code",
   "execution_count": 234,
   "id": "304e142f-bdce-4631-9ef9-5f4e757ddaf9",
   "metadata": {},
   "outputs": [],
   "source": [
    "forecast=forecast[['ds', 'yhat_lower', 'yhat_upper', 'yhat']]"
   ]
  },
  {
   "cell_type": "code",
   "execution_count": 235,
   "id": "99d89b7d-900d-4a13-a445-fe9f6ff9b855",
   "metadata": {},
   "outputs": [
    {
     "data": {
      "text/html": [
       "<div>\n",
       "<style scoped>\n",
       "    .dataframe tbody tr th:only-of-type {\n",
       "        vertical-align: middle;\n",
       "    }\n",
       "\n",
       "    .dataframe tbody tr th {\n",
       "        vertical-align: top;\n",
       "    }\n",
       "\n",
       "    .dataframe thead th {\n",
       "        text-align: right;\n",
       "    }\n",
       "</style>\n",
       "<table border=\"1\" class=\"dataframe\">\n",
       "  <thead>\n",
       "    <tr style=\"text-align: right;\">\n",
       "      <th></th>\n",
       "      <th>Date</th>\n",
       "      <th>Minimum Qualified</th>\n",
       "      <th>Maximum Qualified</th>\n",
       "      <th>Predicted Qualified</th>\n",
       "    </tr>\n",
       "  </thead>\n",
       "  <tbody>\n",
       "    <tr>\n",
       "      <th>151</th>\n",
       "      <td>2021-08-09</td>\n",
       "      <td>245.0</td>\n",
       "      <td>282.0</td>\n",
       "      <td>264.0</td>\n",
       "    </tr>\n",
       "    <tr>\n",
       "      <th>152</th>\n",
       "      <td>2021-08-10</td>\n",
       "      <td>245.0</td>\n",
       "      <td>285.0</td>\n",
       "      <td>264.0</td>\n",
       "    </tr>\n",
       "    <tr>\n",
       "      <th>153</th>\n",
       "      <td>2021-08-11</td>\n",
       "      <td>243.0</td>\n",
       "      <td>280.0</td>\n",
       "      <td>262.0</td>\n",
       "    </tr>\n",
       "    <tr>\n",
       "      <th>154</th>\n",
       "      <td>2021-08-12</td>\n",
       "      <td>246.0</td>\n",
       "      <td>285.0</td>\n",
       "      <td>265.0</td>\n",
       "    </tr>\n",
       "    <tr>\n",
       "      <th>155</th>\n",
       "      <td>2021-08-13</td>\n",
       "      <td>248.0</td>\n",
       "      <td>287.0</td>\n",
       "      <td>268.0</td>\n",
       "    </tr>\n",
       "    <tr>\n",
       "      <th>156</th>\n",
       "      <td>2021-08-14</td>\n",
       "      <td>249.0</td>\n",
       "      <td>285.0</td>\n",
       "      <td>267.0</td>\n",
       "    </tr>\n",
       "    <tr>\n",
       "      <th>157</th>\n",
       "      <td>2021-08-15</td>\n",
       "      <td>247.0</td>\n",
       "      <td>285.0</td>\n",
       "      <td>267.0</td>\n",
       "    </tr>\n",
       "  </tbody>\n",
       "</table>\n",
       "</div>"
      ],
      "text/plain": [
       "          Date  Minimum Qualified  Maximum Qualified  Predicted Qualified\n",
       "151 2021-08-09              245.0              282.0                264.0\n",
       "152 2021-08-10              245.0              285.0                264.0\n",
       "153 2021-08-11              243.0              280.0                262.0\n",
       "154 2021-08-12              246.0              285.0                265.0\n",
       "155 2021-08-13              248.0              287.0                268.0\n",
       "156 2021-08-14              249.0              285.0                267.0\n",
       "157 2021-08-15              247.0              285.0                267.0"
      ]
     },
     "execution_count": 235,
     "metadata": {},
     "output_type": "execute_result"
    }
   ],
   "source": [
    "forecast.columns=['Date', 'Minimum Qualified', 'Maximum Qualified', 'Predicted Qualified']\n",
    "p1=forecast.tail(7)\n",
    "p1"
   ]
  },
  {
   "cell_type": "code",
   "execution_count": 95,
   "id": "e0456b77-6f2a-4b51-aa7a-a56e42e906e6",
   "metadata": {},
   "outputs": [
    {
     "data": {
      "text/html": [
       "<div>\n",
       "<style scoped>\n",
       "    .dataframe tbody tr th:only-of-type {\n",
       "        vertical-align: middle;\n",
       "    }\n",
       "\n",
       "    .dataframe tbody tr th {\n",
       "        vertical-align: top;\n",
       "    }\n",
       "\n",
       "    .dataframe thead th {\n",
       "        text-align: right;\n",
       "    }\n",
       "</style>\n",
       "<table border=\"1\" class=\"dataframe\">\n",
       "  <thead>\n",
       "    <tr style=\"text-align: right;\">\n",
       "      <th></th>\n",
       "      <th>Date</th>\n",
       "      <th>Qualified</th>\n",
       "      <th>Profitable</th>\n",
       "      <th>Qualified &amp; Profitable</th>\n",
       "      <th>Mapping CR</th>\n",
       "      <th>Discovery Rate</th>\n",
       "      <th>Avg. Margin</th>\n",
       "      <th>Avg. Auctions</th>\n",
       "      <th>Avg. Wins</th>\n",
       "      <th>Avg. Sales</th>\n",
       "      <th>Avg. Win %</th>\n",
       "      <th>ROI</th>\n",
       "      <th>Overall Earnings</th>\n",
       "      <th>Overall Cost</th>\n",
       "      <th>Overall Profit</th>\n",
       "      <th>Year</th>\n",
       "      <th>Month</th>\n",
       "      <th>Day</th>\n",
       "      <th>ds</th>\n",
       "    </tr>\n",
       "  </thead>\n",
       "  <tbody>\n",
       "    <tr>\n",
       "      <th>0</th>\n",
       "      <td>NaT</td>\n",
       "      <td>NaN</td>\n",
       "      <td>NaN</td>\n",
       "      <td>NaN</td>\n",
       "      <td>NaN</td>\n",
       "      <td>NaN</td>\n",
       "      <td>NaN</td>\n",
       "      <td>NaN</td>\n",
       "      <td>NaN</td>\n",
       "      <td>NaN</td>\n",
       "      <td>NaN</td>\n",
       "      <td>NaN</td>\n",
       "      <td>NaN</td>\n",
       "      <td>NaN</td>\n",
       "      <td>NaN</td>\n",
       "      <td></td>\n",
       "      <td></td>\n",
       "      <td></td>\n",
       "      <td>NaT</td>\n",
       "    </tr>\n",
       "  </tbody>\n",
       "</table>\n",
       "</div>"
      ],
      "text/plain": [
       "  Date  Qualified  Profitable  Qualified & Profitable  Mapping CR  \\\n",
       "0  NaT        NaN         NaN                     NaN         NaN   \n",
       "\n",
       "   Discovery Rate  Avg. Margin  Avg. Auctions  Avg. Wins  Avg. Sales  \\\n",
       "0             NaN          NaN            NaN        NaN         NaN   \n",
       "\n",
       "   Avg. Win %  ROI  Overall Earnings  Overall Cost  Overall Profit Year Month  \\\n",
       "0         NaN  NaN               NaN           NaN             NaN              \n",
       "\n",
       "  Day  ds  \n",
       "0     NaT  "
      ]
     },
     "execution_count": 95,
     "metadata": {},
     "output_type": "execute_result"
    }
   ],
   "source": [
    "df.head(1)"
   ]
  },
  {
   "cell_type": "code",
   "execution_count": 108,
   "id": "c8b10e56-0c4b-480f-a449-3ad1e4351e5c",
   "metadata": {},
   "outputs": [],
   "source": [
    "pr=df[['Date','Profitable']]\n",
    "pr.columns=['ds','y']\n",
    "pr=pr.dropna()"
   ]
  },
  {
   "cell_type": "code",
   "execution_count": 101,
   "id": "dfca9739-4b6a-4ea4-9142-830b1f589d26",
   "metadata": {},
   "outputs": [],
   "source": []
  },
  {
   "cell_type": "code",
   "execution_count": 229,
   "id": "2b4cd588-76ef-4467-b975-a6cb1899b531",
   "metadata": {},
   "outputs": [
    {
     "name": "stderr",
     "output_type": "stream",
     "text": [
      "INFO:fbprophet:Disabling yearly seasonality. Run prophet with yearly_seasonality=True to override this.\n"
     ]
    }
   ],
   "source": [
    "m = Prophet(interval_width=0.95, daily_seasonality=True)\n",
    "model = m.fit(pr)\n",
    "future = m.make_future_dataframe(periods=8,freq='D')\n",
    "forecast = m.predict(future).round()\n",
    "forecast=forecast[['ds', 'yhat_lower', 'yhat_upper', 'yhat']]\n"
   ]
  },
  {
   "cell_type": "code",
   "execution_count": 230,
   "id": "42f8ad13-6b0d-4521-80c1-fe5c8879360f",
   "metadata": {},
   "outputs": [
    {
     "data": {
      "text/html": [
       "<div>\n",
       "<style scoped>\n",
       "    .dataframe tbody tr th:only-of-type {\n",
       "        vertical-align: middle;\n",
       "    }\n",
       "\n",
       "    .dataframe tbody tr th {\n",
       "        vertical-align: top;\n",
       "    }\n",
       "\n",
       "    .dataframe thead th {\n",
       "        text-align: right;\n",
       "    }\n",
       "</style>\n",
       "<table border=\"1\" class=\"dataframe\">\n",
       "  <thead>\n",
       "    <tr style=\"text-align: right;\">\n",
       "      <th></th>\n",
       "      <th>Date</th>\n",
       "      <th>Minimum Profitable</th>\n",
       "      <th>Maximum Profitable</th>\n",
       "      <th>Predicted Profitable</th>\n",
       "    </tr>\n",
       "  </thead>\n",
       "  <tbody>\n",
       "    <tr>\n",
       "      <th>151</th>\n",
       "      <td>2021-08-09</td>\n",
       "      <td>246.0</td>\n",
       "      <td>283.0</td>\n",
       "      <td>264.0</td>\n",
       "    </tr>\n",
       "    <tr>\n",
       "      <th>152</th>\n",
       "      <td>2021-08-10</td>\n",
       "      <td>246.0</td>\n",
       "      <td>284.0</td>\n",
       "      <td>264.0</td>\n",
       "    </tr>\n",
       "    <tr>\n",
       "      <th>153</th>\n",
       "      <td>2021-08-11</td>\n",
       "      <td>242.0</td>\n",
       "      <td>282.0</td>\n",
       "      <td>262.0</td>\n",
       "    </tr>\n",
       "    <tr>\n",
       "      <th>154</th>\n",
       "      <td>2021-08-12</td>\n",
       "      <td>246.0</td>\n",
       "      <td>283.0</td>\n",
       "      <td>265.0</td>\n",
       "    </tr>\n",
       "    <tr>\n",
       "      <th>155</th>\n",
       "      <td>2021-08-13</td>\n",
       "      <td>249.0</td>\n",
       "      <td>287.0</td>\n",
       "      <td>268.0</td>\n",
       "    </tr>\n",
       "    <tr>\n",
       "      <th>156</th>\n",
       "      <td>2021-08-14</td>\n",
       "      <td>248.0</td>\n",
       "      <td>286.0</td>\n",
       "      <td>267.0</td>\n",
       "    </tr>\n",
       "    <tr>\n",
       "      <th>157</th>\n",
       "      <td>2021-08-15</td>\n",
       "      <td>247.0</td>\n",
       "      <td>286.0</td>\n",
       "      <td>267.0</td>\n",
       "    </tr>\n",
       "  </tbody>\n",
       "</table>\n",
       "</div>"
      ],
      "text/plain": [
       "          Date  Minimum Profitable  Maximum Profitable  Predicted Profitable\n",
       "151 2021-08-09               246.0               283.0                 264.0\n",
       "152 2021-08-10               246.0               284.0                 264.0\n",
       "153 2021-08-11               242.0               282.0                 262.0\n",
       "154 2021-08-12               246.0               283.0                 265.0\n",
       "155 2021-08-13               249.0               287.0                 268.0\n",
       "156 2021-08-14               248.0               286.0                 267.0\n",
       "157 2021-08-15               247.0               286.0                 267.0"
      ]
     },
     "execution_count": 230,
     "metadata": {},
     "output_type": "execute_result"
    }
   ],
   "source": [
    "forecast.columns=['Date', 'Minimum Profitable', 'Maximum Profitable', 'Predicted Profitable']\n",
    "p2=forecast.tail(7)\n",
    "p2"
   ]
  },
  {
   "cell_type": "code",
   "execution_count": 109,
   "id": "403214aa-b8bf-4072-b0af-4bba4f3f5c80",
   "metadata": {},
   "outputs": [],
   "source": [
    "qp=df[['Date','Qualified & Profitable']]\n",
    "qp.columns=['ds','y']\n",
    "qp=qp.dropna()"
   ]
  },
  {
   "cell_type": "code",
   "execution_count": 110,
   "id": "e91e645e-6049-4404-bcf3-28d99bc5b109",
   "metadata": {},
   "outputs": [
    {
     "data": {
      "text/html": [
       "<div>\n",
       "<style scoped>\n",
       "    .dataframe tbody tr th:only-of-type {\n",
       "        vertical-align: middle;\n",
       "    }\n",
       "\n",
       "    .dataframe tbody tr th {\n",
       "        vertical-align: top;\n",
       "    }\n",
       "\n",
       "    .dataframe thead th {\n",
       "        text-align: right;\n",
       "    }\n",
       "</style>\n",
       "<table border=\"1\" class=\"dataframe\">\n",
       "  <thead>\n",
       "    <tr style=\"text-align: right;\">\n",
       "      <th></th>\n",
       "      <th>ds</th>\n",
       "      <th>y</th>\n",
       "    </tr>\n",
       "  </thead>\n",
       "  <tbody>\n",
       "    <tr>\n",
       "      <th>1</th>\n",
       "      <td>2021-03-11</td>\n",
       "      <td>15.0</td>\n",
       "    </tr>\n",
       "    <tr>\n",
       "      <th>2</th>\n",
       "      <td>2021-03-12</td>\n",
       "      <td>15.0</td>\n",
       "    </tr>\n",
       "  </tbody>\n",
       "</table>\n",
       "</div>"
      ],
      "text/plain": [
       "          ds     y\n",
       "1 2021-03-11  15.0\n",
       "2 2021-03-12  15.0"
      ]
     },
     "execution_count": 110,
     "metadata": {},
     "output_type": "execute_result"
    }
   ],
   "source": [
    "qp.head(2)"
   ]
  },
  {
   "cell_type": "code",
   "execution_count": 236,
   "id": "0d453169-b467-42ba-970b-3f8ff082a84d",
   "metadata": {},
   "outputs": [
    {
     "name": "stderr",
     "output_type": "stream",
     "text": [
      "INFO:fbprophet:Disabling yearly seasonality. Run prophet with yearly_seasonality=True to override this.\n"
     ]
    },
    {
     "data": {
      "text/html": [
       "<div>\n",
       "<style scoped>\n",
       "    .dataframe tbody tr th:only-of-type {\n",
       "        vertical-align: middle;\n",
       "    }\n",
       "\n",
       "    .dataframe tbody tr th {\n",
       "        vertical-align: top;\n",
       "    }\n",
       "\n",
       "    .dataframe thead th {\n",
       "        text-align: right;\n",
       "    }\n",
       "</style>\n",
       "<table border=\"1\" class=\"dataframe\">\n",
       "  <thead>\n",
       "    <tr style=\"text-align: right;\">\n",
       "      <th></th>\n",
       "      <th>ds</th>\n",
       "      <th>yhat_lower</th>\n",
       "      <th>yhat_upper</th>\n",
       "      <th>yhat</th>\n",
       "    </tr>\n",
       "  </thead>\n",
       "  <tbody>\n",
       "    <tr>\n",
       "      <th>156</th>\n",
       "      <td>2021-08-14</td>\n",
       "      <td>65.0</td>\n",
       "      <td>81.0</td>\n",
       "      <td>74.0</td>\n",
       "    </tr>\n",
       "    <tr>\n",
       "      <th>157</th>\n",
       "      <td>2021-08-15</td>\n",
       "      <td>65.0</td>\n",
       "      <td>82.0</td>\n",
       "      <td>74.0</td>\n",
       "    </tr>\n",
       "  </tbody>\n",
       "</table>\n",
       "</div>"
      ],
      "text/plain": [
       "            ds  yhat_lower  yhat_upper  yhat\n",
       "156 2021-08-14        65.0        81.0  74.0\n",
       "157 2021-08-15        65.0        82.0  74.0"
      ]
     },
     "execution_count": 236,
     "metadata": {},
     "output_type": "execute_result"
    }
   ],
   "source": [
    "m = Prophet(interval_width=0.95, daily_seasonality=True)\n",
    "model = m.fit(qp)\n",
    "future = m.make_future_dataframe(periods=8,freq='D')\n",
    "forecast = m.predict(future).round()\n",
    "forecast=forecast[['ds', 'yhat_lower', 'yhat_upper', 'yhat']]\n",
    "forecast.tail(2)"
   ]
  },
  {
   "cell_type": "code",
   "execution_count": 238,
   "id": "4ee2f632-b238-4b22-a383-520a2b1b1b4a",
   "metadata": {},
   "outputs": [
    {
     "data": {
      "text/html": [
       "<div>\n",
       "<style scoped>\n",
       "    .dataframe tbody tr th:only-of-type {\n",
       "        vertical-align: middle;\n",
       "    }\n",
       "\n",
       "    .dataframe tbody tr th {\n",
       "        vertical-align: top;\n",
       "    }\n",
       "\n",
       "    .dataframe thead th {\n",
       "        text-align: right;\n",
       "    }\n",
       "</style>\n",
       "<table border=\"1\" class=\"dataframe\">\n",
       "  <thead>\n",
       "    <tr style=\"text-align: right;\">\n",
       "      <th></th>\n",
       "      <th>Date</th>\n",
       "      <th>Atleat_Qualified &amp; Profitable</th>\n",
       "      <th>Atmost_Qualified &amp; Profitable</th>\n",
       "      <th>Predicted_Qualified &amp; Profitable</th>\n",
       "    </tr>\n",
       "  </thead>\n",
       "  <tbody>\n",
       "    <tr>\n",
       "      <th>151</th>\n",
       "      <td>2021-08-09</td>\n",
       "      <td>64.0</td>\n",
       "      <td>80.0</td>\n",
       "      <td>72.0</td>\n",
       "    </tr>\n",
       "    <tr>\n",
       "      <th>152</th>\n",
       "      <td>2021-08-10</td>\n",
       "      <td>64.0</td>\n",
       "      <td>80.0</td>\n",
       "      <td>72.0</td>\n",
       "    </tr>\n",
       "    <tr>\n",
       "      <th>153</th>\n",
       "      <td>2021-08-11</td>\n",
       "      <td>63.0</td>\n",
       "      <td>79.0</td>\n",
       "      <td>71.0</td>\n",
       "    </tr>\n",
       "    <tr>\n",
       "      <th>154</th>\n",
       "      <td>2021-08-12</td>\n",
       "      <td>64.0</td>\n",
       "      <td>81.0</td>\n",
       "      <td>72.0</td>\n",
       "    </tr>\n",
       "    <tr>\n",
       "      <th>155</th>\n",
       "      <td>2021-08-13</td>\n",
       "      <td>66.0</td>\n",
       "      <td>82.0</td>\n",
       "      <td>74.0</td>\n",
       "    </tr>\n",
       "    <tr>\n",
       "      <th>156</th>\n",
       "      <td>2021-08-14</td>\n",
       "      <td>65.0</td>\n",
       "      <td>81.0</td>\n",
       "      <td>74.0</td>\n",
       "    </tr>\n",
       "    <tr>\n",
       "      <th>157</th>\n",
       "      <td>2021-08-15</td>\n",
       "      <td>65.0</td>\n",
       "      <td>82.0</td>\n",
       "      <td>74.0</td>\n",
       "    </tr>\n",
       "  </tbody>\n",
       "</table>\n",
       "</div>"
      ],
      "text/plain": [
       "          Date  Atleat_Qualified & Profitable  Atmost_Qualified & Profitable  \\\n",
       "151 2021-08-09                           64.0                           80.0   \n",
       "152 2021-08-10                           64.0                           80.0   \n",
       "153 2021-08-11                           63.0                           79.0   \n",
       "154 2021-08-12                           64.0                           81.0   \n",
       "155 2021-08-13                           66.0                           82.0   \n",
       "156 2021-08-14                           65.0                           81.0   \n",
       "157 2021-08-15                           65.0                           82.0   \n",
       "\n",
       "     Predicted_Qualified & Profitable  \n",
       "151                              72.0  \n",
       "152                              72.0  \n",
       "153                              71.0  \n",
       "154                              72.0  \n",
       "155                              74.0  \n",
       "156                              74.0  \n",
       "157                              74.0  "
      ]
     },
     "execution_count": 238,
     "metadata": {},
     "output_type": "execute_result"
    }
   ],
   "source": [
    "forecast.columns=['Date', 'Atleat_Qualified & Profitable', 'Atmost_Qualified & Profitable', 'Predicted_Qualified & Profitable']\n",
    "p3=forecast.tail(7)\n",
    "p3"
   ]
  },
  {
   "cell_type": "code",
   "execution_count": 131,
   "id": "af3e8458-f2e5-4e58-878c-2a253f62eab2",
   "metadata": {},
   "outputs": [],
   "source": [
    "mcr=df[['Date','Mapping CR']]\n",
    "mcr.columns=['ds','y']\n",
    "mcr.head(1)\n",
    "mcr=mcr.dropna()"
   ]
  },
  {
   "cell_type": "code",
   "execution_count": 129,
   "id": "4a371d98-41dd-41a9-83a4-668d4a7388ab",
   "metadata": {},
   "outputs": [
    {
     "data": {
      "text/plain": [
       "ds    1\n",
       "y     1\n",
       "dtype: int64"
      ]
     },
     "execution_count": 129,
     "metadata": {},
     "output_type": "execute_result"
    }
   ],
   "source": []
  },
  {
   "cell_type": "code",
   "execution_count": 240,
   "id": "3e2366bb-e4ba-4bc7-b1a9-9adc9795474c",
   "metadata": {},
   "outputs": [
    {
     "name": "stderr",
     "output_type": "stream",
     "text": [
      "INFO:fbprophet:Disabling yearly seasonality. Run prophet with yearly_seasonality=True to override this.\n"
     ]
    },
    {
     "data": {
      "text/html": [
       "<div>\n",
       "<style scoped>\n",
       "    .dataframe tbody tr th:only-of-type {\n",
       "        vertical-align: middle;\n",
       "    }\n",
       "\n",
       "    .dataframe tbody tr th {\n",
       "        vertical-align: top;\n",
       "    }\n",
       "\n",
       "    .dataframe thead th {\n",
       "        text-align: right;\n",
       "    }\n",
       "</style>\n",
       "<table border=\"1\" class=\"dataframe\">\n",
       "  <thead>\n",
       "    <tr style=\"text-align: right;\">\n",
       "      <th></th>\n",
       "      <th>ds</th>\n",
       "      <th>yhat_lower</th>\n",
       "      <th>yhat_upper</th>\n",
       "      <th>yhat</th>\n",
       "    </tr>\n",
       "  </thead>\n",
       "  <tbody>\n",
       "    <tr>\n",
       "      <th>151</th>\n",
       "      <td>2021-08-09</td>\n",
       "      <td>0.590</td>\n",
       "      <td>0.852</td>\n",
       "      <td>0.721</td>\n",
       "    </tr>\n",
       "    <tr>\n",
       "      <th>152</th>\n",
       "      <td>2021-08-10</td>\n",
       "      <td>0.580</td>\n",
       "      <td>0.872</td>\n",
       "      <td>0.724</td>\n",
       "    </tr>\n",
       "    <tr>\n",
       "      <th>153</th>\n",
       "      <td>2021-08-11</td>\n",
       "      <td>0.590</td>\n",
       "      <td>0.876</td>\n",
       "      <td>0.734</td>\n",
       "    </tr>\n",
       "    <tr>\n",
       "      <th>154</th>\n",
       "      <td>2021-08-12</td>\n",
       "      <td>0.579</td>\n",
       "      <td>0.867</td>\n",
       "      <td>0.719</td>\n",
       "    </tr>\n",
       "    <tr>\n",
       "      <th>155</th>\n",
       "      <td>2021-08-13</td>\n",
       "      <td>0.552</td>\n",
       "      <td>0.847</td>\n",
       "      <td>0.698</td>\n",
       "    </tr>\n",
       "    <tr>\n",
       "      <th>156</th>\n",
       "      <td>2021-08-14</td>\n",
       "      <td>0.583</td>\n",
       "      <td>0.856</td>\n",
       "      <td>0.711</td>\n",
       "    </tr>\n",
       "    <tr>\n",
       "      <th>157</th>\n",
       "      <td>2021-08-15</td>\n",
       "      <td>0.574</td>\n",
       "      <td>0.858</td>\n",
       "      <td>0.708</td>\n",
       "    </tr>\n",
       "  </tbody>\n",
       "</table>\n",
       "</div>"
      ],
      "text/plain": [
       "            ds  yhat_lower  yhat_upper   yhat\n",
       "151 2021-08-09       0.590       0.852  0.721\n",
       "152 2021-08-10       0.580       0.872  0.724\n",
       "153 2021-08-11       0.590       0.876  0.734\n",
       "154 2021-08-12       0.579       0.867  0.719\n",
       "155 2021-08-13       0.552       0.847  0.698\n",
       "156 2021-08-14       0.583       0.856  0.711\n",
       "157 2021-08-15       0.574       0.858  0.708"
      ]
     },
     "execution_count": 240,
     "metadata": {},
     "output_type": "execute_result"
    }
   ],
   "source": [
    "m = Prophet(interval_width=0.95, daily_seasonality=True)\n",
    "model = m.fit(mcr)\n",
    "future = m.make_future_dataframe(periods=8,freq='D')\n",
    "forecast = m.predict(future).round(3)\n",
    "forecast=forecast[['ds', 'yhat_lower', 'yhat_upper', 'yhat']]\n",
    "forecast.tail(7)"
   ]
  },
  {
   "cell_type": "code",
   "execution_count": 242,
   "id": "25577930-d2a3-44ec-8e8f-1f4e78591af8",
   "metadata": {},
   "outputs": [
    {
     "data": {
      "text/html": [
       "<div>\n",
       "<style scoped>\n",
       "    .dataframe tbody tr th:only-of-type {\n",
       "        vertical-align: middle;\n",
       "    }\n",
       "\n",
       "    .dataframe tbody tr th {\n",
       "        vertical-align: top;\n",
       "    }\n",
       "\n",
       "    .dataframe thead th {\n",
       "        text-align: right;\n",
       "    }\n",
       "</style>\n",
       "<table border=\"1\" class=\"dataframe\">\n",
       "  <thead>\n",
       "    <tr style=\"text-align: right;\">\n",
       "      <th></th>\n",
       "      <th>Date</th>\n",
       "      <th>Atleat Mapping CR</th>\n",
       "      <th>Atmost Mapping CR</th>\n",
       "      <th>Predicted Mapping CR</th>\n",
       "    </tr>\n",
       "  </thead>\n",
       "  <tbody>\n",
       "    <tr>\n",
       "      <th>151</th>\n",
       "      <td>2021-08-09</td>\n",
       "      <td>0.590</td>\n",
       "      <td>0.852</td>\n",
       "      <td>0.721</td>\n",
       "    </tr>\n",
       "    <tr>\n",
       "      <th>152</th>\n",
       "      <td>2021-08-10</td>\n",
       "      <td>0.580</td>\n",
       "      <td>0.872</td>\n",
       "      <td>0.724</td>\n",
       "    </tr>\n",
       "    <tr>\n",
       "      <th>153</th>\n",
       "      <td>2021-08-11</td>\n",
       "      <td>0.590</td>\n",
       "      <td>0.876</td>\n",
       "      <td>0.734</td>\n",
       "    </tr>\n",
       "    <tr>\n",
       "      <th>154</th>\n",
       "      <td>2021-08-12</td>\n",
       "      <td>0.579</td>\n",
       "      <td>0.867</td>\n",
       "      <td>0.719</td>\n",
       "    </tr>\n",
       "    <tr>\n",
       "      <th>155</th>\n",
       "      <td>2021-08-13</td>\n",
       "      <td>0.552</td>\n",
       "      <td>0.847</td>\n",
       "      <td>0.698</td>\n",
       "    </tr>\n",
       "    <tr>\n",
       "      <th>156</th>\n",
       "      <td>2021-08-14</td>\n",
       "      <td>0.583</td>\n",
       "      <td>0.856</td>\n",
       "      <td>0.711</td>\n",
       "    </tr>\n",
       "    <tr>\n",
       "      <th>157</th>\n",
       "      <td>2021-08-15</td>\n",
       "      <td>0.574</td>\n",
       "      <td>0.858</td>\n",
       "      <td>0.708</td>\n",
       "    </tr>\n",
       "  </tbody>\n",
       "</table>\n",
       "</div>"
      ],
      "text/plain": [
       "          Date  Atleat Mapping CR  Atmost Mapping CR  Predicted Mapping CR\n",
       "151 2021-08-09              0.590              0.852                 0.721\n",
       "152 2021-08-10              0.580              0.872                 0.724\n",
       "153 2021-08-11              0.590              0.876                 0.734\n",
       "154 2021-08-12              0.579              0.867                 0.719\n",
       "155 2021-08-13              0.552              0.847                 0.698\n",
       "156 2021-08-14              0.583              0.856                 0.711\n",
       "157 2021-08-15              0.574              0.858                 0.708"
      ]
     },
     "execution_count": 242,
     "metadata": {},
     "output_type": "execute_result"
    }
   ],
   "source": [
    "forecast.columns=['Date', 'Atleat Mapping CR', 'Atmost Mapping CR', 'Predicted Mapping CR']\n",
    "p4=forecast.tail(7)\n",
    "p4"
   ]
  },
  {
   "cell_type": "code",
   "execution_count": 137,
   "id": "3cad71f4-12b4-4066-9fba-03a4ac13238d",
   "metadata": {},
   "outputs": [],
   "source": [
    "dr=df[['Date','Discovery Rate']]\n",
    "dr.columns=['ds','y']\n",
    "dr.head(1)\n",
    "dr=dr.dropna()"
   ]
  },
  {
   "cell_type": "code",
   "execution_count": 245,
   "id": "6fcc371f-9c1b-4918-9b12-9ac3afd0ab4f",
   "metadata": {},
   "outputs": [
    {
     "name": "stderr",
     "output_type": "stream",
     "text": [
      "INFO:fbprophet:Disabling yearly seasonality. Run prophet with yearly_seasonality=True to override this.\n"
     ]
    },
    {
     "data": {
      "text/html": [
       "<div>\n",
       "<style scoped>\n",
       "    .dataframe tbody tr th:only-of-type {\n",
       "        vertical-align: middle;\n",
       "    }\n",
       "\n",
       "    .dataframe tbody tr th {\n",
       "        vertical-align: top;\n",
       "    }\n",
       "\n",
       "    .dataframe thead th {\n",
       "        text-align: right;\n",
       "    }\n",
       "</style>\n",
       "<table border=\"1\" class=\"dataframe\">\n",
       "  <thead>\n",
       "    <tr style=\"text-align: right;\">\n",
       "      <th></th>\n",
       "      <th>ds</th>\n",
       "      <th>yhat_lower</th>\n",
       "      <th>yhat_upper</th>\n",
       "      <th>yhat</th>\n",
       "    </tr>\n",
       "  </thead>\n",
       "  <tbody>\n",
       "    <tr>\n",
       "      <th>151</th>\n",
       "      <td>2021-08-09</td>\n",
       "      <td>-0.136</td>\n",
       "      <td>0.127</td>\n",
       "      <td>-0.009</td>\n",
       "    </tr>\n",
       "    <tr>\n",
       "      <th>152</th>\n",
       "      <td>2021-08-10</td>\n",
       "      <td>-0.143</td>\n",
       "      <td>0.126</td>\n",
       "      <td>-0.013</td>\n",
       "    </tr>\n",
       "    <tr>\n",
       "      <th>153</th>\n",
       "      <td>2021-08-11</td>\n",
       "      <td>-0.145</td>\n",
       "      <td>0.124</td>\n",
       "      <td>-0.013</td>\n",
       "    </tr>\n",
       "    <tr>\n",
       "      <th>154</th>\n",
       "      <td>2021-08-12</td>\n",
       "      <td>-0.133</td>\n",
       "      <td>0.156</td>\n",
       "      <td>0.014</td>\n",
       "    </tr>\n",
       "    <tr>\n",
       "      <th>155</th>\n",
       "      <td>2021-08-13</td>\n",
       "      <td>-0.101</td>\n",
       "      <td>0.164</td>\n",
       "      <td>0.030</td>\n",
       "    </tr>\n",
       "    <tr>\n",
       "      <th>156</th>\n",
       "      <td>2021-08-14</td>\n",
       "      <td>-0.143</td>\n",
       "      <td>0.111</td>\n",
       "      <td>-0.014</td>\n",
       "    </tr>\n",
       "    <tr>\n",
       "      <th>157</th>\n",
       "      <td>2021-08-15</td>\n",
       "      <td>-0.149</td>\n",
       "      <td>0.126</td>\n",
       "      <td>-0.010</td>\n",
       "    </tr>\n",
       "  </tbody>\n",
       "</table>\n",
       "</div>"
      ],
      "text/plain": [
       "            ds  yhat_lower  yhat_upper   yhat\n",
       "151 2021-08-09      -0.136       0.127 -0.009\n",
       "152 2021-08-10      -0.143       0.126 -0.013\n",
       "153 2021-08-11      -0.145       0.124 -0.013\n",
       "154 2021-08-12      -0.133       0.156  0.014\n",
       "155 2021-08-13      -0.101       0.164  0.030\n",
       "156 2021-08-14      -0.143       0.111 -0.014\n",
       "157 2021-08-15      -0.149       0.126 -0.010"
      ]
     },
     "execution_count": 245,
     "metadata": {},
     "output_type": "execute_result"
    }
   ],
   "source": [
    "m = Prophet(interval_width=0.95, daily_seasonality=True)\n",
    "model = m.fit(dr)\n",
    "future = m.make_future_dataframe(periods=8,freq='D')\n",
    "forecast = m.predict(future).round(3)\n",
    "forecast=forecast[['ds', 'yhat_lower', 'yhat_upper', 'yhat']]\n",
    "forecast.tail(7)"
   ]
  },
  {
   "cell_type": "code",
   "execution_count": 246,
   "id": "b7851287-d881-4dbf-8a0c-9344e594ef1c",
   "metadata": {},
   "outputs": [
    {
     "data": {
      "text/html": [
       "<div>\n",
       "<style scoped>\n",
       "    .dataframe tbody tr th:only-of-type {\n",
       "        vertical-align: middle;\n",
       "    }\n",
       "\n",
       "    .dataframe tbody tr th {\n",
       "        vertical-align: top;\n",
       "    }\n",
       "\n",
       "    .dataframe thead th {\n",
       "        text-align: right;\n",
       "    }\n",
       "</style>\n",
       "<table border=\"1\" class=\"dataframe\">\n",
       "  <thead>\n",
       "    <tr style=\"text-align: right;\">\n",
       "      <th></th>\n",
       "      <th>Date</th>\n",
       "      <th>Minimum Discovery Rate</th>\n",
       "      <th>Maximum Discovery Rate</th>\n",
       "      <th>Predicted Discovery Rate</th>\n",
       "    </tr>\n",
       "  </thead>\n",
       "  <tbody>\n",
       "    <tr>\n",
       "      <th>151</th>\n",
       "      <td>2021-08-09</td>\n",
       "      <td>-0.136</td>\n",
       "      <td>0.127</td>\n",
       "      <td>-0.009</td>\n",
       "    </tr>\n",
       "    <tr>\n",
       "      <th>152</th>\n",
       "      <td>2021-08-10</td>\n",
       "      <td>-0.143</td>\n",
       "      <td>0.126</td>\n",
       "      <td>-0.013</td>\n",
       "    </tr>\n",
       "    <tr>\n",
       "      <th>153</th>\n",
       "      <td>2021-08-11</td>\n",
       "      <td>-0.145</td>\n",
       "      <td>0.124</td>\n",
       "      <td>-0.013</td>\n",
       "    </tr>\n",
       "    <tr>\n",
       "      <th>154</th>\n",
       "      <td>2021-08-12</td>\n",
       "      <td>-0.133</td>\n",
       "      <td>0.156</td>\n",
       "      <td>0.014</td>\n",
       "    </tr>\n",
       "    <tr>\n",
       "      <th>155</th>\n",
       "      <td>2021-08-13</td>\n",
       "      <td>-0.101</td>\n",
       "      <td>0.164</td>\n",
       "      <td>0.030</td>\n",
       "    </tr>\n",
       "    <tr>\n",
       "      <th>156</th>\n",
       "      <td>2021-08-14</td>\n",
       "      <td>-0.143</td>\n",
       "      <td>0.111</td>\n",
       "      <td>-0.014</td>\n",
       "    </tr>\n",
       "    <tr>\n",
       "      <th>157</th>\n",
       "      <td>2021-08-15</td>\n",
       "      <td>-0.149</td>\n",
       "      <td>0.126</td>\n",
       "      <td>-0.010</td>\n",
       "    </tr>\n",
       "  </tbody>\n",
       "</table>\n",
       "</div>"
      ],
      "text/plain": [
       "          Date  Minimum Discovery Rate  Maximum Discovery Rate  \\\n",
       "151 2021-08-09                  -0.136                   0.127   \n",
       "152 2021-08-10                  -0.143                   0.126   \n",
       "153 2021-08-11                  -0.145                   0.124   \n",
       "154 2021-08-12                  -0.133                   0.156   \n",
       "155 2021-08-13                  -0.101                   0.164   \n",
       "156 2021-08-14                  -0.143                   0.111   \n",
       "157 2021-08-15                  -0.149                   0.126   \n",
       "\n",
       "     Predicted Discovery Rate  \n",
       "151                    -0.009  \n",
       "152                    -0.013  \n",
       "153                    -0.013  \n",
       "154                     0.014  \n",
       "155                     0.030  \n",
       "156                    -0.014  \n",
       "157                    -0.010  "
      ]
     },
     "execution_count": 246,
     "metadata": {},
     "output_type": "execute_result"
    }
   ],
   "source": [
    "forecast.columns=['Date', 'Minimum Discovery Rate', 'Maximum Discovery Rate', 'Predicted Discovery Rate']\n",
    "p5=forecast.tail(7)\n",
    "p5"
   ]
  },
  {
   "cell_type": "code",
   "execution_count": 247,
   "id": "74507d37-d064-4cef-b295-70ef15353d2f",
   "metadata": {},
   "outputs": [],
   "source": [
    "avm=df[['Date','Avg. Margin']]\n",
    "avm.columns=['ds','y']\n",
    "avm.head(1)\n",
    "avm=avm.dropna()"
   ]
  },
  {
   "cell_type": "code",
   "execution_count": 248,
   "id": "c7ec06b7-1309-4833-9f32-38f8112b99e7",
   "metadata": {},
   "outputs": [
    {
     "name": "stderr",
     "output_type": "stream",
     "text": [
      "INFO:fbprophet:Disabling yearly seasonality. Run prophet with yearly_seasonality=True to override this.\n"
     ]
    },
    {
     "data": {
      "text/html": [
       "<div>\n",
       "<style scoped>\n",
       "    .dataframe tbody tr th:only-of-type {\n",
       "        vertical-align: middle;\n",
       "    }\n",
       "\n",
       "    .dataframe tbody tr th {\n",
       "        vertical-align: top;\n",
       "    }\n",
       "\n",
       "    .dataframe thead th {\n",
       "        text-align: right;\n",
       "    }\n",
       "</style>\n",
       "<table border=\"1\" class=\"dataframe\">\n",
       "  <thead>\n",
       "    <tr style=\"text-align: right;\">\n",
       "      <th></th>\n",
       "      <th>ds</th>\n",
       "      <th>yhat_lower</th>\n",
       "      <th>yhat_upper</th>\n",
       "      <th>yhat</th>\n",
       "    </tr>\n",
       "  </thead>\n",
       "  <tbody>\n",
       "    <tr>\n",
       "      <th>151</th>\n",
       "      <td>2021-08-09</td>\n",
       "      <td>2.072</td>\n",
       "      <td>3.125</td>\n",
       "      <td>2.609</td>\n",
       "    </tr>\n",
       "    <tr>\n",
       "      <th>152</th>\n",
       "      <td>2021-08-10</td>\n",
       "      <td>2.164</td>\n",
       "      <td>3.260</td>\n",
       "      <td>2.716</td>\n",
       "    </tr>\n",
       "    <tr>\n",
       "      <th>153</th>\n",
       "      <td>2021-08-11</td>\n",
       "      <td>2.205</td>\n",
       "      <td>3.218</td>\n",
       "      <td>2.714</td>\n",
       "    </tr>\n",
       "    <tr>\n",
       "      <th>154</th>\n",
       "      <td>2021-08-12</td>\n",
       "      <td>2.274</td>\n",
       "      <td>3.274</td>\n",
       "      <td>2.763</td>\n",
       "    </tr>\n",
       "    <tr>\n",
       "      <th>155</th>\n",
       "      <td>2021-08-13</td>\n",
       "      <td>2.263</td>\n",
       "      <td>3.326</td>\n",
       "      <td>2.781</td>\n",
       "    </tr>\n",
       "    <tr>\n",
       "      <th>156</th>\n",
       "      <td>2021-08-14</td>\n",
       "      <td>2.189</td>\n",
       "      <td>3.278</td>\n",
       "      <td>2.712</td>\n",
       "    </tr>\n",
       "    <tr>\n",
       "      <th>157</th>\n",
       "      <td>2021-08-15</td>\n",
       "      <td>2.233</td>\n",
       "      <td>3.235</td>\n",
       "      <td>2.727</td>\n",
       "    </tr>\n",
       "  </tbody>\n",
       "</table>\n",
       "</div>"
      ],
      "text/plain": [
       "            ds  yhat_lower  yhat_upper   yhat\n",
       "151 2021-08-09       2.072       3.125  2.609\n",
       "152 2021-08-10       2.164       3.260  2.716\n",
       "153 2021-08-11       2.205       3.218  2.714\n",
       "154 2021-08-12       2.274       3.274  2.763\n",
       "155 2021-08-13       2.263       3.326  2.781\n",
       "156 2021-08-14       2.189       3.278  2.712\n",
       "157 2021-08-15       2.233       3.235  2.727"
      ]
     },
     "execution_count": 248,
     "metadata": {},
     "output_type": "execute_result"
    }
   ],
   "source": [
    "m = Prophet(interval_width=0.95, daily_seasonality=True)\n",
    "model = m.fit(avm)\n",
    "future = m.make_future_dataframe(periods=8,freq='D')\n",
    "forecast = m.predict(future).round(3)\n",
    "forecast=forecast[['ds', 'yhat_lower', 'yhat_upper', 'yhat']]\n",
    "forecast.tail(7)"
   ]
  },
  {
   "cell_type": "code",
   "execution_count": 148,
   "id": "d36d8d1c-1d76-4778-82a9-ea4222a531ed",
   "metadata": {},
   "outputs": [
    {
     "data": {
      "text/html": [
       "<div>\n",
       "<style scoped>\n",
       "    .dataframe tbody tr th:only-of-type {\n",
       "        vertical-align: middle;\n",
       "    }\n",
       "\n",
       "    .dataframe tbody tr th {\n",
       "        vertical-align: top;\n",
       "    }\n",
       "\n",
       "    .dataframe thead th {\n",
       "        text-align: right;\n",
       "    }\n",
       "</style>\n",
       "<table border=\"1\" class=\"dataframe\">\n",
       "  <thead>\n",
       "    <tr style=\"text-align: right;\">\n",
       "      <th></th>\n",
       "      <th>Date</th>\n",
       "      <th>Qualified</th>\n",
       "      <th>Profitable</th>\n",
       "      <th>Qualified &amp; Profitable</th>\n",
       "      <th>Mapping CR</th>\n",
       "      <th>Discovery Rate</th>\n",
       "      <th>Avg. Margin</th>\n",
       "      <th>Avg. Auctions</th>\n",
       "      <th>Avg. Wins</th>\n",
       "      <th>Avg. Sales</th>\n",
       "      <th>Avg. Win %</th>\n",
       "      <th>ROI</th>\n",
       "      <th>Overall Earnings</th>\n",
       "      <th>Overall Cost</th>\n",
       "      <th>Overall Profit</th>\n",
       "      <th>Year</th>\n",
       "      <th>Month</th>\n",
       "      <th>Day</th>\n",
       "      <th>ds</th>\n",
       "    </tr>\n",
       "  </thead>\n",
       "  <tbody>\n",
       "    <tr>\n",
       "      <th>0</th>\n",
       "      <td>NaT</td>\n",
       "      <td>NaN</td>\n",
       "      <td>NaN</td>\n",
       "      <td>NaN</td>\n",
       "      <td>NaN</td>\n",
       "      <td>NaN</td>\n",
       "      <td>NaN</td>\n",
       "      <td>NaN</td>\n",
       "      <td>NaN</td>\n",
       "      <td>NaN</td>\n",
       "      <td>NaN</td>\n",
       "      <td>NaN</td>\n",
       "      <td>NaN</td>\n",
       "      <td>NaN</td>\n",
       "      <td>NaN</td>\n",
       "      <td></td>\n",
       "      <td></td>\n",
       "      <td></td>\n",
       "      <td>NaT</td>\n",
       "    </tr>\n",
       "  </tbody>\n",
       "</table>\n",
       "</div>"
      ],
      "text/plain": [
       "  Date  Qualified  Profitable  Qualified & Profitable  Mapping CR  \\\n",
       "0  NaT        NaN         NaN                     NaN         NaN   \n",
       "\n",
       "   Discovery Rate  Avg. Margin  Avg. Auctions  Avg. Wins  Avg. Sales  \\\n",
       "0             NaN          NaN            NaN        NaN         NaN   \n",
       "\n",
       "   Avg. Win %  ROI  Overall Earnings  Overall Cost  Overall Profit Year Month  \\\n",
       "0         NaN  NaN               NaN           NaN             NaN              \n",
       "\n",
       "  Day  ds  \n",
       "0     NaT  "
      ]
     },
     "execution_count": 148,
     "metadata": {},
     "output_type": "execute_result"
    }
   ],
   "source": [
    "df.head(1)"
   ]
  },
  {
   "cell_type": "code",
   "execution_count": 250,
   "id": "62df0cd0-ae01-4230-8485-9df6684c3939",
   "metadata": {},
   "outputs": [],
   "source": [
    "forecast.columns=['Date', 'Minimum Avg Margin', 'Maximum Avg Margin', 'Predicted Avg Margin']\n",
    "p6=forecast.tail(7)"
   ]
  },
  {
   "cell_type": "code",
   "execution_count": 251,
   "id": "7feac230-bd10-4831-b046-1c9766a70605",
   "metadata": {},
   "outputs": [],
   "source": [
    "ava=df[['Date','Avg. Auctions']]\n",
    "ava.columns=['ds','y']\n",
    "ava.head(1)\n",
    "ava=ava.dropna()"
   ]
  },
  {
   "cell_type": "code",
   "execution_count": 252,
   "id": "9e5e826d-14eb-4b8a-8a5e-54a571840dfc",
   "metadata": {},
   "outputs": [
    {
     "name": "stderr",
     "output_type": "stream",
     "text": [
      "INFO:fbprophet:Disabling yearly seasonality. Run prophet with yearly_seasonality=True to override this.\n"
     ]
    },
    {
     "data": {
      "text/html": [
       "<div>\n",
       "<style scoped>\n",
       "    .dataframe tbody tr th:only-of-type {\n",
       "        vertical-align: middle;\n",
       "    }\n",
       "\n",
       "    .dataframe tbody tr th {\n",
       "        vertical-align: top;\n",
       "    }\n",
       "\n",
       "    .dataframe thead th {\n",
       "        text-align: right;\n",
       "    }\n",
       "</style>\n",
       "<table border=\"1\" class=\"dataframe\">\n",
       "  <thead>\n",
       "    <tr style=\"text-align: right;\">\n",
       "      <th></th>\n",
       "      <th>ds</th>\n",
       "      <th>yhat_lower</th>\n",
       "      <th>yhat_upper</th>\n",
       "      <th>yhat</th>\n",
       "    </tr>\n",
       "  </thead>\n",
       "  <tbody>\n",
       "    <tr>\n",
       "      <th>151</th>\n",
       "      <td>2021-08-09</td>\n",
       "      <td>-62.531</td>\n",
       "      <td>76.976</td>\n",
       "      <td>9.456</td>\n",
       "    </tr>\n",
       "    <tr>\n",
       "      <th>152</th>\n",
       "      <td>2021-08-10</td>\n",
       "      <td>-49.472</td>\n",
       "      <td>88.953</td>\n",
       "      <td>20.163</td>\n",
       "    </tr>\n",
       "    <tr>\n",
       "      <th>153</th>\n",
       "      <td>2021-08-11</td>\n",
       "      <td>-58.776</td>\n",
       "      <td>80.497</td>\n",
       "      <td>6.597</td>\n",
       "    </tr>\n",
       "    <tr>\n",
       "      <th>154</th>\n",
       "      <td>2021-08-12</td>\n",
       "      <td>-63.096</td>\n",
       "      <td>80.318</td>\n",
       "      <td>9.943</td>\n",
       "    </tr>\n",
       "    <tr>\n",
       "      <th>155</th>\n",
       "      <td>2021-08-13</td>\n",
       "      <td>-49.617</td>\n",
       "      <td>89.300</td>\n",
       "      <td>21.477</td>\n",
       "    </tr>\n",
       "    <tr>\n",
       "      <th>156</th>\n",
       "      <td>2021-08-14</td>\n",
       "      <td>-50.082</td>\n",
       "      <td>84.503</td>\n",
       "      <td>17.209</td>\n",
       "    </tr>\n",
       "    <tr>\n",
       "      <th>157</th>\n",
       "      <td>2021-08-15</td>\n",
       "      <td>-61.709</td>\n",
       "      <td>79.132</td>\n",
       "      <td>9.232</td>\n",
       "    </tr>\n",
       "  </tbody>\n",
       "</table>\n",
       "</div>"
      ],
      "text/plain": [
       "            ds  yhat_lower  yhat_upper    yhat\n",
       "151 2021-08-09     -62.531      76.976   9.456\n",
       "152 2021-08-10     -49.472      88.953  20.163\n",
       "153 2021-08-11     -58.776      80.497   6.597\n",
       "154 2021-08-12     -63.096      80.318   9.943\n",
       "155 2021-08-13     -49.617      89.300  21.477\n",
       "156 2021-08-14     -50.082      84.503  17.209\n",
       "157 2021-08-15     -61.709      79.132   9.232"
      ]
     },
     "execution_count": 252,
     "metadata": {},
     "output_type": "execute_result"
    }
   ],
   "source": [
    "m = Prophet(interval_width=0.95, daily_seasonality=True)\n",
    "model = m.fit(ava)\n",
    "future = m.make_future_dataframe(periods=8,freq='D')\n",
    "forecast = m.predict(future).round(3)\n",
    "forecast=forecast[['ds', 'yhat_lower', 'yhat_upper', 'yhat']]\n",
    "forecast.tail(7)"
   ]
  },
  {
   "cell_type": "code",
   "execution_count": 255,
   "id": "ec9c18e1-5133-4e79-8d5f-30f2a3086d32",
   "metadata": {},
   "outputs": [],
   "source": [
    "forecast.columns=['Date', 'Minimum Avg Auctions', 'Maximum Avg Auctions', 'Predicted Avg Auctions']\n",
    "p7=forecast.tail(7)"
   ]
  },
  {
   "cell_type": "code",
   "execution_count": 256,
   "id": "3feb667c-71ca-427b-ae95-a75c65abad48",
   "metadata": {},
   "outputs": [],
   "source": [
    "avw=df[['Date','Avg. Wins']]\n",
    "avw.columns=['ds','y']\n",
    "avw.head(1)\n",
    "avw=avw.dropna()"
   ]
  },
  {
   "cell_type": "code",
   "execution_count": 258,
   "id": "dd2f7b8e-b1d4-4176-b5b7-73263e6450dd",
   "metadata": {},
   "outputs": [
    {
     "name": "stderr",
     "output_type": "stream",
     "text": [
      "INFO:fbprophet:Disabling yearly seasonality. Run prophet with yearly_seasonality=True to override this.\n"
     ]
    }
   ],
   "source": [
    "m = Prophet(interval_width=0.95, daily_seasonality=True)\n",
    "model = m.fit(avw)\n",
    "future = m.make_future_dataframe(periods=8,freq='D')\n",
    "forecast = m.predict(future).round(3)\n",
    "forecast=forecast[['ds', 'yhat_lower', 'yhat_upper', 'yhat']]\n"
   ]
  },
  {
   "cell_type": "code",
   "execution_count": 259,
   "id": "1a3256f1-bc68-48b2-96a9-42a5aa97a9d3",
   "metadata": {},
   "outputs": [],
   "source": [
    "forecast.columns=['Date', 'Minimum Avg Wins', 'Maximum Avg Wins', 'Predicted Avg Wins']\n",
    "p8=forecast.tail(7)"
   ]
  },
  {
   "cell_type": "code",
   "execution_count": 260,
   "id": "f2cc9232-9919-4f9f-a633-67fbe6c557eb",
   "metadata": {},
   "outputs": [],
   "source": [
    "avs=df[['Date','Avg. Sales']]\n",
    "avs.columns=['ds','y']\n",
    "avs.head(1)\n",
    "avs=avs.dropna()"
   ]
  },
  {
   "cell_type": "code",
   "execution_count": 261,
   "id": "d57be826-15d1-4cdd-9845-23c2faa0e153",
   "metadata": {},
   "outputs": [
    {
     "name": "stderr",
     "output_type": "stream",
     "text": [
      "INFO:fbprophet:Disabling yearly seasonality. Run prophet with yearly_seasonality=True to override this.\n"
     ]
    }
   ],
   "source": [
    "m = Prophet(interval_width=0.95, daily_seasonality=True)\n",
    "model = m.fit(avs)\n",
    "future = m.make_future_dataframe(periods=8,freq='D')\n",
    "forecast = m.predict(future).round(3)\n",
    "forecast=forecast[['ds', 'yhat_lower', 'yhat_upper', 'yhat']]"
   ]
  },
  {
   "cell_type": "code",
   "execution_count": 262,
   "id": "2116a7b6-c1a6-47a3-af55-ad4cfce2af04",
   "metadata": {},
   "outputs": [],
   "source": [
    "forecast.columns=['Date', 'Minimum Avg Sales', 'Maximum Avg Sales', 'Predicted Avg Sales']\n",
    "p9=forecast.tail(7)"
   ]
  },
  {
   "cell_type": "code",
   "execution_count": 263,
   "id": "8572c5e2-eaa1-47dd-b669-f9f333358c3e",
   "metadata": {},
   "outputs": [
    {
     "data": {
      "text/plain": [
       "ds     1\n",
       "y     26\n",
       "dtype: int64"
      ]
     },
     "execution_count": 263,
     "metadata": {},
     "output_type": "execute_result"
    }
   ],
   "source": [
    "avwp=df[['Date','Avg. Win %']]\n",
    "avwp.columns=['ds','y']\n",
    "avwp.head(1)\n",
    "avwp.isna().sum()"
   ]
  },
  {
   "cell_type": "code",
   "execution_count": 264,
   "id": "574689a8-52c9-46fa-b3a8-ffbd6811ca6e",
   "metadata": {},
   "outputs": [
    {
     "data": {
      "text/plain": [
       "0.23355680000000004"
      ]
     },
     "execution_count": 264,
     "metadata": {},
     "output_type": "execute_result"
    }
   ],
   "source": [
    "m1=avwp['y'].mean()\n",
    "m1"
   ]
  },
  {
   "cell_type": "code",
   "execution_count": 265,
   "id": "238906bf-3d20-4037-82bb-c5af40be3c43",
   "metadata": {},
   "outputs": [
    {
     "name": "stderr",
     "output_type": "stream",
     "text": [
      "C:\\Users\\ok\\anaconda3\\lib\\site-packages\\pandas\\core\\generic.py:6383: SettingWithCopyWarning: \n",
      "A value is trying to be set on a copy of a slice from a DataFrame\n",
      "\n",
      "See the caveats in the documentation: https://pandas.pydata.org/pandas-docs/stable/user_guide/indexing.html#returning-a-view-versus-a-copy\n",
      "  return self._update_inplace(result)\n"
     ]
    }
   ],
   "source": [
    "avwp['y'].fillna(value=m1, inplace=True)"
   ]
  },
  {
   "cell_type": "code",
   "execution_count": 266,
   "id": "95f7cfdc-1ad6-4259-87d5-287312acb218",
   "metadata": {},
   "outputs": [
    {
     "data": {
      "text/plain": [
       "ds    1\n",
       "y     0\n",
       "dtype: int64"
      ]
     },
     "execution_count": 266,
     "metadata": {},
     "output_type": "execute_result"
    }
   ],
   "source": [
    "avwp.isna().sum()"
   ]
  },
  {
   "cell_type": "code",
   "execution_count": 267,
   "id": "3926b68c-7257-4daa-8087-2b5c7b5afd3b",
   "metadata": {},
   "outputs": [],
   "source": [
    "avwp=avwp.dropna()"
   ]
  },
  {
   "cell_type": "code",
   "execution_count": 268,
   "id": "47e57356-fc5c-4636-a70f-3fb18b8ab47c",
   "metadata": {},
   "outputs": [
    {
     "name": "stderr",
     "output_type": "stream",
     "text": [
      "INFO:fbprophet:Disabling yearly seasonality. Run prophet with yearly_seasonality=True to override this.\n"
     ]
    }
   ],
   "source": [
    "m = Prophet(interval_width=0.95, daily_seasonality=True)\n",
    "model = m.fit(avwp)\n",
    "future = m.make_future_dataframe(periods=8,freq='D')\n",
    "forecast = m.predict(future).round(3)\n",
    "forecast=forecast[['ds', 'yhat_lower', 'yhat_upper', 'yhat']]"
   ]
  },
  {
   "cell_type": "code",
   "execution_count": 271,
   "id": "a08c4535-278d-4e7a-8748-89c108e0a586",
   "metadata": {},
   "outputs": [],
   "source": [
    "forecast.columns=['Date', 'Minimum Avg Win %', 'Maximum Avg Win %', 'Predicted Avg Win %']\n",
    "p10=forecast.tail(7)"
   ]
  },
  {
   "cell_type": "code",
   "execution_count": 285,
   "id": "5e4f8872-c01c-4632-8be2-79f1aeeeef4b",
   "metadata": {},
   "outputs": [
    {
     "data": {
      "text/plain": [
       "ds      1\n",
       "y     103\n",
       "dtype: int64"
      ]
     },
     "execution_count": 285,
     "metadata": {},
     "output_type": "execute_result"
    }
   ],
   "source": [
    "roi=df[['Date','ROI']]\n",
    "roi.columns=['ds','y']\n",
    "roi.head(1)\n",
    "roi.isna().sum()"
   ]
  },
  {
   "cell_type": "code",
   "execution_count": 286,
   "id": "29d9d67f-fbaf-4f45-905b-57e18f576a74",
   "metadata": {},
   "outputs": [
    {
     "data": {
      "text/plain": [
       "-0.15904166666666666"
      ]
     },
     "execution_count": 286,
     "metadata": {},
     "output_type": "execute_result"
    }
   ],
   "source": [
    "m2=roi['y'].mean()\n",
    "m2"
   ]
  },
  {
   "cell_type": "code",
   "execution_count": 288,
   "id": "97dd3a78-6ec8-4bec-92de-d2a00e1779eb",
   "metadata": {},
   "outputs": [],
   "source": [
    "roi['y'].fillna(value=m2, inplace=True)"
   ]
  },
  {
   "cell_type": "code",
   "execution_count": 290,
   "id": "28ebfc5b-f930-4865-9d4c-7bd6bb97188e",
   "metadata": {},
   "outputs": [],
   "source": [
    "roi=roi.dropna()"
   ]
  },
  {
   "cell_type": "code",
   "execution_count": 291,
   "id": "cf612e8a-31ab-4aca-9901-55b27936e3c4",
   "metadata": {},
   "outputs": [
    {
     "name": "stderr",
     "output_type": "stream",
     "text": [
      "INFO:fbprophet:Disabling yearly seasonality. Run prophet with yearly_seasonality=True to override this.\n"
     ]
    }
   ],
   "source": [
    "m = Prophet(interval_width=0.95, daily_seasonality=True)\n",
    "model = m.fit(roi)\n",
    "future = m.make_future_dataframe(periods=8,freq='D')\n",
    "forecast = m.predict(future).round(3)\n",
    "forecast=forecast[['ds', 'yhat_lower', 'yhat_upper', 'yhat']]"
   ]
  },
  {
   "cell_type": "code",
   "execution_count": 292,
   "id": "3d07d2a8-bc79-491e-aec4-ec6f2a2e8cad",
   "metadata": {},
   "outputs": [],
   "source": [
    "forecast.columns=['Date', 'Minimum ROI', 'Maximum ROI', 'Predicted ROI']\n",
    "p11=forecast.tail(7)"
   ]
  },
  {
   "cell_type": "code",
   "execution_count": 293,
   "id": "04c1394d-34d8-4f79-ab4c-7651ad0ab2d2",
   "metadata": {},
   "outputs": [
    {
     "data": {
      "text/plain": [
       "ds      1\n",
       "y     108\n",
       "dtype: int64"
      ]
     },
     "execution_count": 293,
     "metadata": {},
     "output_type": "execute_result"
    }
   ],
   "source": [
    "ove=df[['Date','Overall Earnings']]\n",
    "ove.columns=['ds','y']\n",
    "ove.head(1)\n",
    "ove.isna().sum()"
   ]
  },
  {
   "cell_type": "code",
   "execution_count": 294,
   "id": "8b3e8c42-9c15-43d5-8d83-e605cce4ada2",
   "metadata": {},
   "outputs": [
    {
     "data": {
      "text/plain": [
       "20.71756461046512"
      ]
     },
     "execution_count": 294,
     "metadata": {},
     "output_type": "execute_result"
    }
   ],
   "source": [
    "m3=ove['y'].mean()\n",
    "m3"
   ]
  },
  {
   "cell_type": "code",
   "execution_count": 295,
   "id": "8aa6bfe3-634b-4434-b15c-1aa53389deba",
   "metadata": {},
   "outputs": [
    {
     "name": "stderr",
     "output_type": "stream",
     "text": [
      "C:\\Users\\ok\\anaconda3\\lib\\site-packages\\pandas\\core\\generic.py:6383: SettingWithCopyWarning: \n",
      "A value is trying to be set on a copy of a slice from a DataFrame\n",
      "\n",
      "See the caveats in the documentation: https://pandas.pydata.org/pandas-docs/stable/user_guide/indexing.html#returning-a-view-versus-a-copy\n",
      "  return self._update_inplace(result)\n"
     ]
    }
   ],
   "source": [
    "ove['y'].fillna(value=m3, inplace=True)"
   ]
  },
  {
   "cell_type": "code",
   "execution_count": 296,
   "id": "6fcba8d8-2f5a-4649-b099-1fa403a9b6d7",
   "metadata": {},
   "outputs": [],
   "source": [
    "ove=ove.dropna()"
   ]
  },
  {
   "cell_type": "code",
   "execution_count": 297,
   "id": "526a4d1e-c9b2-49b4-a664-335d7fb413ff",
   "metadata": {},
   "outputs": [
    {
     "name": "stderr",
     "output_type": "stream",
     "text": [
      "INFO:fbprophet:Disabling yearly seasonality. Run prophet with yearly_seasonality=True to override this.\n"
     ]
    }
   ],
   "source": [
    "m = Prophet(interval_width=0.95, daily_seasonality=True)\n",
    "model = m.fit(ove)\n",
    "future = m.make_future_dataframe(periods=8,freq='D')\n",
    "forecast = m.predict(future).round(3)\n",
    "forecast=forecast[['ds', 'yhat_lower', 'yhat_upper', 'yhat']]"
   ]
  },
  {
   "cell_type": "code",
   "execution_count": 298,
   "id": "a77405d2-b9d0-46fc-b4fb-64c3cb779949",
   "metadata": {},
   "outputs": [
    {
     "data": {
      "text/html": [
       "<div>\n",
       "<style scoped>\n",
       "    .dataframe tbody tr th:only-of-type {\n",
       "        vertical-align: middle;\n",
       "    }\n",
       "\n",
       "    .dataframe tbody tr th {\n",
       "        vertical-align: top;\n",
       "    }\n",
       "\n",
       "    .dataframe thead th {\n",
       "        text-align: right;\n",
       "    }\n",
       "</style>\n",
       "<table border=\"1\" class=\"dataframe\">\n",
       "  <thead>\n",
       "    <tr style=\"text-align: right;\">\n",
       "      <th></th>\n",
       "      <th>Date</th>\n",
       "      <th>Minimum ROI</th>\n",
       "      <th>Maximum ROI</th>\n",
       "      <th>Predicted ROI</th>\n",
       "    </tr>\n",
       "  </thead>\n",
       "  <tbody>\n",
       "    <tr>\n",
       "      <th>151</th>\n",
       "      <td>2021-08-09</td>\n",
       "      <td>-1.384</td>\n",
       "      <td>0.919</td>\n",
       "      <td>-0.206</td>\n",
       "    </tr>\n",
       "    <tr>\n",
       "      <th>152</th>\n",
       "      <td>2021-08-10</td>\n",
       "      <td>-1.069</td>\n",
       "      <td>1.140</td>\n",
       "      <td>0.028</td>\n",
       "    </tr>\n",
       "    <tr>\n",
       "      <th>153</th>\n",
       "      <td>2021-08-11</td>\n",
       "      <td>-1.426</td>\n",
       "      <td>0.887</td>\n",
       "      <td>-0.258</td>\n",
       "    </tr>\n",
       "    <tr>\n",
       "      <th>154</th>\n",
       "      <td>2021-08-12</td>\n",
       "      <td>-1.285</td>\n",
       "      <td>0.947</td>\n",
       "      <td>-0.114</td>\n",
       "    </tr>\n",
       "    <tr>\n",
       "      <th>155</th>\n",
       "      <td>2021-08-13</td>\n",
       "      <td>-1.553</td>\n",
       "      <td>0.769</td>\n",
       "      <td>-0.326</td>\n",
       "    </tr>\n",
       "    <tr>\n",
       "      <th>156</th>\n",
       "      <td>2021-08-14</td>\n",
       "      <td>-1.485</td>\n",
       "      <td>0.898</td>\n",
       "      <td>-0.289</td>\n",
       "    </tr>\n",
       "    <tr>\n",
       "      <th>157</th>\n",
       "      <td>2021-08-15</td>\n",
       "      <td>-1.523</td>\n",
       "      <td>0.823</td>\n",
       "      <td>-0.393</td>\n",
       "    </tr>\n",
       "  </tbody>\n",
       "</table>\n",
       "</div>"
      ],
      "text/plain": [
       "          Date  Minimum ROI  Maximum ROI  Predicted ROI\n",
       "151 2021-08-09       -1.384        0.919         -0.206\n",
       "152 2021-08-10       -1.069        1.140          0.028\n",
       "153 2021-08-11       -1.426        0.887         -0.258\n",
       "154 2021-08-12       -1.285        0.947         -0.114\n",
       "155 2021-08-13       -1.553        0.769         -0.326\n",
       "156 2021-08-14       -1.485        0.898         -0.289\n",
       "157 2021-08-15       -1.523        0.823         -0.393"
      ]
     },
     "execution_count": 298,
     "metadata": {},
     "output_type": "execute_result"
    }
   ],
   "source": [
    "forecast.columns=['Date', 'Minimum Overall Earnings', 'Maximum Overall Earnings', 'Predicted Overall Earnings']\n",
    "p12=forecast.tail(7)\n",
    "p11"
   ]
  },
  {
   "cell_type": "code",
   "execution_count": 299,
   "id": "2a6d1c0a-5081-444a-8735-e45c8f724ddb",
   "metadata": {},
   "outputs": [
    {
     "data": {
      "text/plain": [
       "ds     1\n",
       "y     17\n",
       "dtype: int64"
      ]
     },
     "execution_count": 299,
     "metadata": {},
     "output_type": "execute_result"
    }
   ],
   "source": [
    "ovc=df[['Date','Overall Cost']]\n",
    "ovc.columns=['ds','y']\n",
    "ovc.head(1)\n",
    "ovc.isna().sum()"
   ]
  },
  {
   "cell_type": "code",
   "execution_count": 300,
   "id": "b65e6254-7fd4-4c52-8adb-cddfe6bb0370",
   "metadata": {},
   "outputs": [
    {
     "data": {
      "text/plain": [
       "16.43240619402985"
      ]
     },
     "execution_count": 300,
     "metadata": {},
     "output_type": "execute_result"
    }
   ],
   "source": [
    "m4=ovc['y'].mean()\n",
    "m4"
   ]
  },
  {
   "cell_type": "code",
   "execution_count": 301,
   "id": "73ded2af-d5fc-4ae7-927f-26b7b7eabf99",
   "metadata": {},
   "outputs": [
    {
     "name": "stderr",
     "output_type": "stream",
     "text": [
      "C:\\Users\\ok\\anaconda3\\lib\\site-packages\\pandas\\core\\generic.py:6383: SettingWithCopyWarning: \n",
      "A value is trying to be set on a copy of a slice from a DataFrame\n",
      "\n",
      "See the caveats in the documentation: https://pandas.pydata.org/pandas-docs/stable/user_guide/indexing.html#returning-a-view-versus-a-copy\n",
      "  return self._update_inplace(result)\n"
     ]
    }
   ],
   "source": [
    "ovc['y'].fillna(value=m4, inplace=True)"
   ]
  },
  {
   "cell_type": "code",
   "execution_count": 302,
   "id": "02babed4-a894-4051-a41d-18c72191c76d",
   "metadata": {},
   "outputs": [],
   "source": [
    "ovc=ovc.dropna()"
   ]
  },
  {
   "cell_type": "code",
   "execution_count": 303,
   "id": "014d6eac-2652-45fa-a97d-2ee3b7f17206",
   "metadata": {},
   "outputs": [
    {
     "name": "stderr",
     "output_type": "stream",
     "text": [
      "INFO:fbprophet:Disabling yearly seasonality. Run prophet with yearly_seasonality=True to override this.\n"
     ]
    }
   ],
   "source": [
    "m = Prophet(interval_width=0.95, daily_seasonality=True)\n",
    "model = m.fit(ovc)\n",
    "future = m.make_future_dataframe(periods=8,freq='D')\n",
    "forecast = m.predict(future).round(3)\n",
    "forecast=forecast[['ds', 'yhat_lower', 'yhat_upper', 'yhat']]"
   ]
  },
  {
   "cell_type": "code",
   "execution_count": 306,
   "id": "4064c214-ce92-4cb6-9db3-28bff55b8b34",
   "metadata": {},
   "outputs": [],
   "source": [
    "forecast.columns=['Date', 'Minimum Overall Cost', 'Maximum Overall Cost', 'Predicted Overall Cost']\n",
    "p13=forecast.tail(7)"
   ]
  },
  {
   "cell_type": "code",
   "execution_count": 307,
   "id": "8d0bb70f-442b-4c10-b176-36c41f20157d",
   "metadata": {},
   "outputs": [
    {
     "data": {
      "text/plain": [
       "ds    1\n",
       "y     8\n",
       "dtype: int64"
      ]
     },
     "execution_count": 307,
     "metadata": {},
     "output_type": "execute_result"
    }
   ],
   "source": [
    "ovp=df[['Date','Overall Profit']]\n",
    "ovp.columns=['ds','y']\n",
    "ovp.head(1)\n",
    "ovp.isna().sum()"
   ]
  },
  {
   "cell_type": "code",
   "execution_count": 308,
   "id": "092082fe-154b-4105-88eb-6469a8e58c91",
   "metadata": {},
   "outputs": [
    {
     "data": {
      "text/plain": [
       "-9.168441621328672"
      ]
     },
     "execution_count": 308,
     "metadata": {},
     "output_type": "execute_result"
    }
   ],
   "source": [
    "m5=ovp['y'].mean()\n",
    "m5"
   ]
  },
  {
   "cell_type": "code",
   "execution_count": 309,
   "id": "3b78bf28-3948-4c13-84cb-58b6017c8398",
   "metadata": {},
   "outputs": [
    {
     "name": "stderr",
     "output_type": "stream",
     "text": [
      "C:\\Users\\ok\\anaconda3\\lib\\site-packages\\pandas\\core\\generic.py:6383: SettingWithCopyWarning: \n",
      "A value is trying to be set on a copy of a slice from a DataFrame\n",
      "\n",
      "See the caveats in the documentation: https://pandas.pydata.org/pandas-docs/stable/user_guide/indexing.html#returning-a-view-versus-a-copy\n",
      "  return self._update_inplace(result)\n"
     ]
    }
   ],
   "source": [
    "ovp['y'].fillna(value=m5, inplace=True)"
   ]
  },
  {
   "cell_type": "code",
   "execution_count": 310,
   "id": "b3b8043e-a831-45f4-82c8-4e997279e115",
   "metadata": {},
   "outputs": [],
   "source": [
    "ovp=ovp.dropna()"
   ]
  },
  {
   "cell_type": "code",
   "execution_count": 313,
   "id": "f076874a-640d-4b35-bd1d-5990200b7916",
   "metadata": {},
   "outputs": [
    {
     "name": "stderr",
     "output_type": "stream",
     "text": [
      "INFO:fbprophet:Disabling yearly seasonality. Run prophet with yearly_seasonality=True to override this.\n"
     ]
    }
   ],
   "source": [
    "m = Prophet(interval_width=0.95, daily_seasonality=True)\n",
    "model = m.fit(ovp)\n",
    "future = m.make_future_dataframe(periods=8,freq='D')\n",
    "forecast = m.predict(future).round(2)\n",
    "forecast=forecast[['ds', 'yhat_lower', 'yhat_upper', 'yhat']]"
   ]
  },
  {
   "cell_type": "code",
   "execution_count": 315,
   "id": "dfcc8350-41a6-4506-a3dc-064293702e81",
   "metadata": {},
   "outputs": [
    {
     "data": {
      "text/html": [
       "<div>\n",
       "<style scoped>\n",
       "    .dataframe tbody tr th:only-of-type {\n",
       "        vertical-align: middle;\n",
       "    }\n",
       "\n",
       "    .dataframe tbody tr th {\n",
       "        vertical-align: top;\n",
       "    }\n",
       "\n",
       "    .dataframe thead th {\n",
       "        text-align: right;\n",
       "    }\n",
       "</style>\n",
       "<table border=\"1\" class=\"dataframe\">\n",
       "  <thead>\n",
       "    <tr style=\"text-align: right;\">\n",
       "      <th></th>\n",
       "      <th>Date</th>\n",
       "      <th>Minimum Overall Profit</th>\n",
       "      <th>Maximum Overall Profit</th>\n",
       "      <th>Predicted Overall Profit</th>\n",
       "    </tr>\n",
       "  </thead>\n",
       "  <tbody>\n",
       "    <tr>\n",
       "      <th>151</th>\n",
       "      <td>2021-08-09</td>\n",
       "      <td>-109.46</td>\n",
       "      <td>50.46</td>\n",
       "      <td>-27.38</td>\n",
       "    </tr>\n",
       "    <tr>\n",
       "      <th>152</th>\n",
       "      <td>2021-08-10</td>\n",
       "      <td>-95.46</td>\n",
       "      <td>66.90</td>\n",
       "      <td>-14.94</td>\n",
       "    </tr>\n",
       "    <tr>\n",
       "      <th>153</th>\n",
       "      <td>2021-08-11</td>\n",
       "      <td>-98.68</td>\n",
       "      <td>58.97</td>\n",
       "      <td>-21.03</td>\n",
       "    </tr>\n",
       "    <tr>\n",
       "      <th>154</th>\n",
       "      <td>2021-08-12</td>\n",
       "      <td>-97.17</td>\n",
       "      <td>58.42</td>\n",
       "      <td>-18.67</td>\n",
       "    </tr>\n",
       "    <tr>\n",
       "      <th>155</th>\n",
       "      <td>2021-08-13</td>\n",
       "      <td>-101.77</td>\n",
       "      <td>53.57</td>\n",
       "      <td>-25.93</td>\n",
       "    </tr>\n",
       "    <tr>\n",
       "      <th>156</th>\n",
       "      <td>2021-08-14</td>\n",
       "      <td>-110.54</td>\n",
       "      <td>51.83</td>\n",
       "      <td>-26.44</td>\n",
       "    </tr>\n",
       "    <tr>\n",
       "      <th>157</th>\n",
       "      <td>2021-08-15</td>\n",
       "      <td>-115.66</td>\n",
       "      <td>49.81</td>\n",
       "      <td>-30.72</td>\n",
       "    </tr>\n",
       "  </tbody>\n",
       "</table>\n",
       "</div>"
      ],
      "text/plain": [
       "          Date  Minimum Overall Profit  Maximum Overall Profit  \\\n",
       "151 2021-08-09                 -109.46                   50.46   \n",
       "152 2021-08-10                  -95.46                   66.90   \n",
       "153 2021-08-11                  -98.68                   58.97   \n",
       "154 2021-08-12                  -97.17                   58.42   \n",
       "155 2021-08-13                 -101.77                   53.57   \n",
       "156 2021-08-14                 -110.54                   51.83   \n",
       "157 2021-08-15                 -115.66                   49.81   \n",
       "\n",
       "     Predicted Overall Profit  \n",
       "151                    -27.38  \n",
       "152                    -14.94  \n",
       "153                    -21.03  \n",
       "154                    -18.67  \n",
       "155                    -25.93  \n",
       "156                    -26.44  \n",
       "157                    -30.72  "
      ]
     },
     "execution_count": 315,
     "metadata": {},
     "output_type": "execute_result"
    }
   ],
   "source": [
    "forecast.columns=['Date', 'Minimum Overall Profit', 'Maximum Overall Profit', 'Predicted Overall Profit']\n",
    "p14=forecast.tail(7)\n",
    "p14"
   ]
  },
  {
   "cell_type": "code",
   "execution_count": 317,
   "id": "a967251f-66b5-43ff-979e-15d13009d73d",
   "metadata": {},
   "outputs": [
    {
     "data": {
      "text/plain": [
       "[          Date  Minimum Qualified  Maximum Qualified  Predicted Qualified\n",
       " 151 2021-08-09              245.0              282.0                264.0\n",
       " 152 2021-08-10              245.0              285.0                264.0\n",
       " 153 2021-08-11              243.0              280.0                262.0\n",
       " 154 2021-08-12              246.0              285.0                265.0\n",
       " 155 2021-08-13              248.0              287.0                268.0\n",
       " 156 2021-08-14              249.0              285.0                267.0\n",
       " 157 2021-08-15              247.0              285.0                267.0,\n",
       "           Date  Minimum Profitable  Maximum Profitable  Predicted Profitable\n",
       " 151 2021-08-09               246.0               283.0                 264.0\n",
       " 152 2021-08-10               246.0               284.0                 264.0\n",
       " 153 2021-08-11               242.0               282.0                 262.0\n",
       " 154 2021-08-12               246.0               283.0                 265.0\n",
       " 155 2021-08-13               249.0               287.0                 268.0\n",
       " 156 2021-08-14               248.0               286.0                 267.0\n",
       " 157 2021-08-15               247.0               286.0                 267.0,\n",
       "           Date  Atleat_Qualified & Profitable  Atmost_Qualified & Profitable  \\\n",
       " 151 2021-08-09                           64.0                           80.0   \n",
       " 152 2021-08-10                           64.0                           80.0   \n",
       " 153 2021-08-11                           63.0                           79.0   \n",
       " 154 2021-08-12                           64.0                           81.0   \n",
       " 155 2021-08-13                           66.0                           82.0   \n",
       " 156 2021-08-14                           65.0                           81.0   \n",
       " 157 2021-08-15                           65.0                           82.0   \n",
       " \n",
       "      Predicted_Qualified & Profitable  \n",
       " 151                              72.0  \n",
       " 152                              72.0  \n",
       " 153                              71.0  \n",
       " 154                              72.0  \n",
       " 155                              74.0  \n",
       " 156                              74.0  \n",
       " 157                              74.0  ]"
      ]
     },
     "execution_count": 317,
     "metadata": {},
     "output_type": "execute_result"
    }
   ],
   "source": [
    "df1=[p1,p2,p3]\n",
    "df1"
   ]
  },
  {
   "cell_type": "code",
   "execution_count": 333,
   "id": "83db9e95-1a1b-45c5-9987-d870f4f7d945",
   "metadata": {},
   "outputs": [
    {
     "name": "stdout",
     "output_type": "stream",
     "text": [
      "          Date  Minimum Overall Profit  Maximum Overall Profit  \\\n",
      "151 2021-08-09                 -109.46                   50.46   \n",
      "152 2021-08-10                  -95.46                   66.90   \n",
      "153 2021-08-11                  -98.68                   58.97   \n",
      "154 2021-08-12                  -97.17                   58.42   \n",
      "155 2021-08-13                 -101.77                   53.57   \n",
      "156 2021-08-14                 -110.54                   51.83   \n",
      "157 2021-08-15                 -115.66                   49.81   \n",
      "\n",
      "     Predicted Overall Profit  \n",
      "151                    -27.38  \n",
      "152                    -14.94  \n",
      "153                    -21.03  \n",
      "154                    -18.67  \n",
      "155                    -25.93  \n",
      "156                    -26.44  \n",
      "157                    -30.72  \n"
     ]
    }
   ],
   "source": [
    "print(p14)"
   ]
  },
  {
   "cell_type": "code",
   "execution_count": null,
   "id": "7b83d0af-2d5b-4ba8-a72c-a8820abd6a1c",
   "metadata": {},
   "outputs": [],
   "source": []
  }
 ],
 "metadata": {
  "kernelspec": {
   "display_name": "Python 3",
   "language": "python",
   "name": "python3"
  },
  "language_info": {
   "codemirror_mode": {
    "name": "ipython",
    "version": 3
   },
   "file_extension": ".py",
   "mimetype": "text/x-python",
   "name": "python",
   "nbconvert_exporter": "python",
   "pygments_lexer": "ipython3",
   "version": "3.8.8"
  }
 },
 "nbformat": 4,
 "nbformat_minor": 5
}
